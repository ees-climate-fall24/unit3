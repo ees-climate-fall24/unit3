{
 "cells": [
  {
   "cell_type": "code",
   "execution_count": 35,
   "id": "5984dd92-0ff9-41df-a9b2-c0e164d47cb0",
   "metadata": {
    "tags": []
   },
   "outputs": [],
   "source": [
    "### Note new packages that we are importing!!\n",
    "from cartopy import crs as ccrs, feature as cfeature        ## for plotting geo spatial data\n",
    "import cmocean                    ## for nice colormaps.\n",
    "import matplotlib.path as mpath   ## needed for nice looking polar projections.\n",
    "import momlevel as ml             ## for computing annual mean and seasonal cycle.\n",
    "import matplotlib.pyplot as plt\n",
    "import zarr\n",
    "import xarray as xr\n",
    "import numpy as np"
   ]
  },
  {
   "cell_type": "code",
   "execution_count": 36,
   "id": "a5d8c531-cefe-4565-8208-213019d31eac",
   "metadata": {
    "tags": []
   },
   "outputs": [],
   "source": [
    "%matplotlib inline                           \n",
    "%config InlineBackend.figure_format='retina' \n",
    "plt.rcParams['figure.figsize'] = 12,6"
   ]
  },
  {
   "cell_type": "markdown",
   "id": "44eb5791-7b0f-444e-b02f-f44596323d41",
   "metadata": {},
   "source": [
    "### Load in our observations of Sea Ice Concentration from the NOAA OI SST V2 High Resolution Dataset from September 1981 to September 2023 on a 1/4 - degree grid. Here we load in the dataset in as a Zarr store instead of a netcdf file since the dataset is high-resolution (you do not need to know the details of this now). To load in Zarr format data, we use Xarray's `xr.open_zarr()` method instead of `xr.open_dataset`.\n",
    "\n",
    "### We also load in a file that contains the pre-computed grid cell area for our dataset:\n",
    "\n"
   ]
  },
  {
   "cell_type": "code",
   "execution_count": 37,
   "id": "527c9c33-860b-44a5-9978-f9f5661ef1ba",
   "metadata": {
    "tags": []
   },
   "outputs": [],
   "source": [
    "seaice_observations = xr.open_zarr('/home/tu.temple.edu/tuq41374/courses/EES3506_5506_Fall2023_Unit5/data/seaice_concentration_data')\n",
    "seaice_gridcell_area = xr.open_dataset('/home/tu.temple.edu/tuq41374/courses/EES3506_5506_Fall2023_Unit4/notebooks/cell_area_sicon.nc')"
   ]
  },
  {
   "cell_type": "markdown",
   "id": "dc8ae827-1522-431a-9e03-0a75978a65ec",
   "metadata": {},
   "source": [
    "### Function for creating nice looking NorthPolarStereo projections:"
   ]
  },
  {
   "cell_type": "code",
   "execution_count": 39,
   "id": "6eaddbde-2be5-4eaf-948b-75df6f798e84",
   "metadata": {
    "tags": []
   },
   "outputs": [],
   "source": [
    "def North_Polar(array,vmin,vmax,cmap):\n",
    "    subplot_kws = dict(projection=ccrs.NorthPolarStereo()) \n",
    "    fig, ax = plt.subplots(figsize=[10, 5],subplot_kw=subplot_kws)\n",
    "    \n",
    "    array.plot(ax=ax,\n",
    "               transform =ccrs.PlateCarree(),\n",
    "               vmin=vmin,\n",
    "               vmax=vmax,\n",
    "               extend='both',\n",
    "               cmap=cmap,levels=30)\n",
    "\n",
    "    # Limit the map to -50 degrees latitude and below.\n",
    "    ax.set_extent([-180, 180, 50, 90], ccrs.PlateCarree())\n",
    "    \n",
    "    # Compute a circle in axes coordinates, which we can use as a boundary\n",
    "    # for the map. We can pan/zoom as much as we like - the boundary will be\n",
    "    # permanently circular.\n",
    "    \n",
    "    theta = np.linspace(0, 2*np.pi, 100)\n",
    "    center, radius = [0.5, 0.5], 0.5\n",
    "    verts = np.vstack([np.sin(theta), np.cos(theta)]).T\n",
    "    circle = mpath.Path(verts * radius + center)\n",
    "\n",
    "    ax.set_boundary(circle, transform=ax.transAxes)\n",
    "    ax.coastlines()"
   ]
  },
  {
   "cell_type": "markdown",
   "id": "b2433136-d5c1-4f2e-a497-f9120e77fa63",
   "metadata": {},
   "source": [
    "### Function for creating nice looking SouthPolarStereo projections:"
   ]
  },
  {
   "cell_type": "code",
   "execution_count": 40,
   "id": "17a7f4c3-1ded-48a7-83f1-30d4ffea994f",
   "metadata": {
    "tags": []
   },
   "outputs": [],
   "source": [
    "def South_Polar(array,vmin,vmax,cmap):\n",
    "    subplot_kws = dict(projection=ccrs.SouthPolarStereo()) \n",
    "    fig, ax = plt.subplots(figsize=[10, 5],subplot_kw=subplot_kws)\n",
    "    \n",
    "    array.plot(ax=ax,\n",
    "               transform =ccrs.PlateCarree(),\n",
    "               vmin=vmin,\n",
    "               vmax=vmax,\n",
    "               extend='both',\n",
    "               cmap=cmap, levels=30)\n",
    "\n",
    "    # Limit the map to -50 degrees latitude and below.\n",
    "    ax.set_extent([-180, 180, -90, -50], ccrs.PlateCarree())\n",
    "    \n",
    "    # Compute a circle in axes coordinates, which we can use as a boundary\n",
    "    # for the map. We can pan/zoom as much as we like - the boundary will be\n",
    "    # permanently circular.\n",
    "    \n",
    "    theta = np.linspace(0, 2*np.pi, 100)\n",
    "    center, radius = [0.5, 0.5], 0.5\n",
    "    verts = np.vstack([np.sin(theta), np.cos(theta)]).T\n",
    "    circle = mpath.Path(verts * radius + center)\n",
    "\n",
    "    ax.set_boundary(circle, transform=ax.transAxes)\n",
    "    ax.coastlines()"
   ]
  },
  {
   "cell_type": "markdown",
   "id": "d60541d8-35f8-41f7-9986-f4ce03267ff9",
   "metadata": {},
   "source": [
    "### Create a global map using a nice - projection of the time-averaged (Sept 1981 to Sept 2022, full dataset) sea ice concentration. \n",
    "* #### Add coastlines to your plot to distinguish land using `ax.coastlines()`.\n",
    "* #### Make sure to choose appropriate vmin & vmax values for your color bar.\n",
    "* #### Choose a global projection that is reasonable to display the data .....\n",
    "  * Explore the Robinson, EckertIV, and other projections.\n",
    "* #### Choose an appropriate color map to display the data.\n",
    "  * cmocean maps here: https://matplotlib.org/cmocean/ (hint: what is the data you are displaying??)\n",
    "\n",
    "### For a full list of projections available via Cartopy please use this reference: https://scitools.org.uk/cartopy/docs/latest/reference/projections.html#platecarree"
   ]
  },
  {
   "cell_type": "code",
   "execution_count": null,
   "id": "e10c45c3-6817-40bf-97e7-aa99e9786ac2",
   "metadata": {},
   "outputs": [],
   "source": []
  },
  {
   "cell_type": "markdown",
   "id": "7615dcc1-0591-4f4e-96d3-e04c758fc32b",
   "metadata": {},
   "source": [
    "### Use Xarray's `.groupby()` method and the polar projection function given above to create a polar projection of Northern Hemisphere wintertime-averaged Arctic sea ice averaged over the full time period of observations:"
   ]
  },
  {
   "cell_type": "code",
   "execution_count": null,
   "id": "866c48be-ce73-47e2-a812-c4e907aca8f7",
   "metadata": {},
   "outputs": [],
   "source": []
  },
  {
   "cell_type": "markdown",
   "id": "e2990346-99b2-4267-969c-2ccb95c488ca",
   "metadata": {},
   "source": [
    "### Use Xarray's `.groupby()` method and the polar projection function given above to create a polar projection of Northern Hemisphere summertime-averaged Arctic sea ice averaged over the full time period of observations:"
   ]
  },
  {
   "cell_type": "code",
   "execution_count": null,
   "id": "fdb3d517-4850-482b-b570-f5c676df2eb2",
   "metadata": {},
   "outputs": [],
   "source": []
  },
  {
   "cell_type": "markdown",
   "id": "f75c08d4-bc48-46cb-862e-1a5930251dbe",
   "metadata": {},
   "source": [
    "### Use Xarray's `.groupby()` method and the polar projection function given above to create a polar projection of Southern Hemisphere wintertime-averaged Arctic sea ice averaged over the full time period of observations:"
   ]
  },
  {
   "cell_type": "code",
   "execution_count": null,
   "id": "83f37317-ad79-4d9c-8cca-2d0e06e8f46e",
   "metadata": {},
   "outputs": [],
   "source": []
  },
  {
   "cell_type": "markdown",
   "id": "352a7d34-5982-46a6-a292-e14ea93a4480",
   "metadata": {},
   "source": [
    "### Use Xarray's `.groupby()` method and the polar projection function given above to create a polar projection of Southern Hemisphere summertime-averaged Arctic sea ice averaged over the full time period of observations:"
   ]
  },
  {
   "cell_type": "code",
   "execution_count": null,
   "id": "771aff7a-69f6-445e-80da-c72f52fa368d",
   "metadata": {},
   "outputs": [],
   "source": []
  },
  {
   "cell_type": "markdown",
   "id": "202c7183-36d8-4603-bb13-d6ef3c1bd070",
   "metadata": {},
   "source": [
    "## Sea Ice Extent Analysis"
   ]
  },
  {
   "cell_type": "markdown",
   "id": "979b1b04-c5b8-4d82-8aab-679b84c9a5b2",
   "metadata": {},
   "source": [
    "#### Total Sea Ice Extent (SIE) in million km^2 is a metric that climate scientists commonly use to monitor sea ice. SIE is computed as:\n",
    "* The __sum of__ the (fractional sea ice coverage (concentration) * the grid cell area covered by sea ice) = m^2\n",
    "* Convert m^2 to km^2\n",
    "\n",
    "#### You have loaded in two datasets that will allow you to do this calculation and reproduce the following plot of the seasonal cycle for Arctic SIE. Produce a plot of Arctic SIE: \n",
    "* With the 1982 to 2010 time-average as a thick dashed line\n",
    "* Use Xarray's `.std()` method to compute the standard deviation (this is just like you did for `.mean(dim='time')`, except your method is now `.std(dim='time')` and place two thin lines on your plot that indicate the 1982 to 2010 time-average + 2 standard deviations and the 1982 to 2010 time-average + 2 standard deviations.\n",
    "* A thick red line for the annual-cycle of SIE for 2012\n",
    "* Lines for 2020 and 2021.\n",
    "* Your x-axis should be in actual months, not integers.\n",
    "\n",
    "*** Hints: \n",
    "* This will involve some slicing in space and time!\n",
    "* Use Xarray's `.groupby('time.month').mean(dim='time')` method to take your 1982 to 2010 data to an annual / seasonal cycle!\n",
    "* You can also use .std(dim='time') .....\n",
    "* Make sure you are checking your DataArrays that you are calculating to make sure you know what you are plotting / the regions / dimensions / etc .... when in doubt, print your array!\n",
    "* You do not have to do this for this assignment ..... but you can also using ax.fill_between()... specifying your x and y axes just like you did using a Pandas array in our Unit3 module and shade your standard deviations about your mean ....\n"
   ]
  },
  {
   "cell_type": "markdown",
   "id": "d9f3502d-7076-43ef-832c-05a419a4850e",
   "metadata": {},
   "source": [
    "![](https://eoimages.gsfc.nasa.gov/images/imagerecords/147000/147306/arctic_nsidc_2020259_plot.png)"
   ]
  },
  {
   "cell_type": "code",
   "execution_count": null,
   "id": "992b44c7-6c58-4540-a076-74990e4081f0",
   "metadata": {},
   "outputs": [],
   "source": []
  },
  {
   "cell_type": "markdown",
   "id": "ad452bf2-ce75-430f-ab5d-2feb71a1e440",
   "metadata": {},
   "source": [
    "## Repeat the above excercise but for Antarctic Sea Ice ... "
   ]
  },
  {
   "cell_type": "code",
   "execution_count": null,
   "id": "9dbcc951-9dba-4e4c-b890-4be5bdc02407",
   "metadata": {},
   "outputs": [],
   "source": []
  },
  {
   "cell_type": "markdown",
   "id": "e73bf936-89f0-4d46-b1c8-a85dc8d6505e",
   "metadata": {
    "tags": []
   },
   "source": [
    "### Use Xarray's `.groupby()` method and the polar projection function given above to create a polar projection of sea ice concentration for the month when Antarctic sea ice extent is at its maximum ..."
   ]
  },
  {
   "cell_type": "code",
   "execution_count": 31,
   "id": "d65ae37e-cef4-4bf3-90f8-4c255679561e",
   "metadata": {
    "tags": []
   },
   "outputs": [],
   "source": []
  },
  {
   "cell_type": "markdown",
   "id": "ab57de11-43e0-4083-b79c-2a81fcecb807",
   "metadata": {},
   "source": [
    "### Use Xarray's `.groupby()` method and the polar projection function given above to create a polar projection of sea ice concentration for the month when Antarctic sea ice extent is at its minimum ..."
   ]
  },
  {
   "cell_type": "code",
   "execution_count": null,
   "id": "82bc0fa5-8b9a-4355-b9bf-7aba098e59ee",
   "metadata": {
    "tags": []
   },
   "outputs": [],
   "source": []
  },
  {
   "cell_type": "markdown",
   "id": "41f71e89-7eaf-44f8-be50-d89514830c5b",
   "metadata": {},
   "source": [
    "### Use Xarray's `.groupby()` method and the polar projection function given above to create a polar projection of sea ice concentration for the month when Arctic sea ice extent is at its minimum ..."
   ]
  },
  {
   "cell_type": "code",
   "execution_count": null,
   "id": "718044a8-0589-4653-b243-0f8c476d99bc",
   "metadata": {},
   "outputs": [],
   "source": []
  },
  {
   "cell_type": "markdown",
   "id": "8911b15f-80b0-4abb-92be-5a789ad2374e",
   "metadata": {},
   "source": [
    "### Use Xarray's `.groupby()` method and the polar projection function given above to create a polar projection of sea ice concentration for the month when Arctic sea ice extent is at its maximum ..."
   ]
  },
  {
   "cell_type": "markdown",
   "id": "72dd2b9e-b8d7-43ab-9a49-e5821e58c167",
   "metadata": {},
   "source": []
  },
  {
   "cell_type": "markdown",
   "id": "997b0a26-69b7-4cee-9c4d-2f18884c0988",
   "metadata": {},
   "source": []
  },
  {
   "cell_type": "code",
   "execution_count": null,
   "id": "4fcb5a8a-0142-4c30-b26a-431cec1204f8",
   "metadata": {},
   "outputs": [],
   "source": []
  }
 ],
 "metadata": {
  "kernelspec": {
   "display_name": "Python 3 (ipykernel)",
   "language": "python",
   "name": "python3"
  },
  "language_info": {
   "codemirror_mode": {
    "name": "ipython",
    "version": 3
   },
   "file_extension": ".py",
   "mimetype": "text/x-python",
   "name": "python",
   "nbconvert_exporter": "python",
   "pygments_lexer": "ipython3",
   "version": "3.9.16"
  }
 },
 "nbformat": 4,
 "nbformat_minor": 5
}
